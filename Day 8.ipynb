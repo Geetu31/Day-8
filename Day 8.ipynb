{
 "cells": [
  {
   "cell_type": "raw",
   "id": "1a62a9bf",
   "metadata": {},
   "source": [
    "\n",
    "Introduction to tuple datatype"
   ]
  },
  {
   "cell_type": "code",
   "execution_count": 1,
   "id": "e740a8f8",
   "metadata": {},
   "outputs": [
    {
     "ename": "SyntaxError",
     "evalue": "invalid syntax (<ipython-input-1-11d28bc6b1ee>, line 1)",
     "output_type": "error",
     "traceback": [
      "\u001b[0;36m  File \u001b[0;32m\"<ipython-input-1-11d28bc6b1ee>\"\u001b[0;36m, line \u001b[0;32m1\u001b[0m\n\u001b[0;31m    An immutable list is called a tuple.\u001b[0m\n\u001b[0m               ^\u001b[0m\n\u001b[0;31mSyntaxError\u001b[0m\u001b[0;31m:\u001b[0m invalid syntax\n"
     ]
    }
   ],
   "source": [
    "An immutable list is called a tuple."
   ]
  },
  {
   "cell_type": "code",
   "execution_count": 2,
   "id": "6f9f090e",
   "metadata": {},
   "outputs": [],
   "source": [
    "students = ('a','b','c','d')"
   ]
  },
  {
   "cell_type": "code",
   "execution_count": 3,
   "id": "88c4bb79",
   "metadata": {},
   "outputs": [
    {
     "name": "stdout",
     "output_type": "stream",
     "text": [
      "('a', 'b', 'c', 'd')\n"
     ]
    }
   ],
   "source": [
    "print(students)"
   ]
  },
  {
   "cell_type": "code",
   "execution_count": 4,
   "id": "28d92ba0",
   "metadata": {},
   "outputs": [
    {
     "data": {
      "text/plain": [
       "tuple"
      ]
     },
     "execution_count": 4,
     "metadata": {},
     "output_type": "execute_result"
    }
   ],
   "source": [
    "type(students)"
   ]
  },
  {
   "cell_type": "code",
   "execution_count": 5,
   "id": "4690b36b",
   "metadata": {},
   "outputs": [
    {
     "ename": "AttributeError",
     "evalue": "'tuple' object has no attribute 'append'",
     "output_type": "error",
     "traceback": [
      "\u001b[0;31m---------------------------------------------------------------------------\u001b[0m",
      "\u001b[0;31mAttributeError\u001b[0m                            Traceback (most recent call last)",
      "\u001b[0;32m<ipython-input-5-a0dd92e875c3>\u001b[0m in \u001b[0;36m<module>\u001b[0;34m\u001b[0m\n\u001b[0;32m----> 1\u001b[0;31m \u001b[0mstudents\u001b[0m\u001b[0;34m.\u001b[0m\u001b[0mappend\u001b[0m\u001b[0;34m(\u001b[0m\u001b[0;34m'z)'\u001b[0m\u001b[0;34m)\u001b[0m\u001b[0;34m\u001b[0m\u001b[0;34m\u001b[0m\u001b[0m\n\u001b[0m",
      "\u001b[0;31mAttributeError\u001b[0m: 'tuple' object has no attribute 'append'"
     ]
    }
   ],
   "source": [
    "students.append('z)') # if i want to add item in tuple"
   ]
  },
  {
   "cell_type": "code",
   "execution_count": 6,
   "id": "8418ae43",
   "metadata": {},
   "outputs": [
    {
     "name": "stdout",
     "output_type": "stream",
     "text": [
      "a\n",
      "b\n",
      "c\n",
      "d\n"
     ]
    }
   ],
   "source": [
    "for x in students:\n",
    "    print(x)"
   ]
  },
  {
   "cell_type": "code",
   "execution_count": 8,
   "id": "c7192a71",
   "metadata": {},
   "outputs": [],
   "source": [
    "dimensions = (200,50)"
   ]
  },
  {
   "cell_type": "code",
   "execution_count": 9,
   "id": "6757ebb9",
   "metadata": {},
   "outputs": [
    {
     "name": "stdout",
     "output_type": "stream",
     "text": [
      "(200, 50)\n"
     ]
    }
   ],
   "source": [
    "print(dimensions)"
   ]
  },
  {
   "cell_type": "code",
   "execution_count": 10,
   "id": "a8ebe707",
   "metadata": {},
   "outputs": [],
   "source": [
    "# Introduction to dictionary data type:"
   ]
  },
  {
   "cell_type": "code",
   "execution_count": 11,
   "id": "0efcd994",
   "metadata": {},
   "outputs": [
    {
     "ename": "SyntaxError",
     "evalue": "invalid syntax (<ipython-input-11-e94a69421ff0>, line 2)",
     "output_type": "error",
     "traceback": [
      "\u001b[0;36m  File \u001b[0;32m\"<ipython-input-11-e94a69421ff0>\"\u001b[0;36m, line \u001b[0;32m2\u001b[0m\n\u001b[0;31m    It is classified as mutable datatypes.\u001b[0m\n\u001b[0m                      ^\u001b[0m\n\u001b[0;31mSyntaxError\u001b[0m\u001b[0;31m:\u001b[0m invalid syntax\n"
     ]
    }
   ],
   "source": [
    "# dictionary is a combination of key value pairs.\n",
    "It is classified as mutable datatypes.\n",
    "how do you define dictionary....>{}"
   ]
  },
  {
   "cell_type": "code",
   "execution_count": 12,
   "id": "ebc61e34",
   "metadata": {},
   "outputs": [],
   "source": [
    "#want to build a alian game"
   ]
  },
  {
   "cell_type": "code",
   "execution_count": 14,
   "id": "aef174a6",
   "metadata": {},
   "outputs": [],
   "source": [
    "alien = {'color':'green','points':5}"
   ]
  },
  {
   "cell_type": "code",
   "execution_count": 15,
   "id": "153c19e8",
   "metadata": {},
   "outputs": [
    {
     "name": "stdout",
     "output_type": "stream",
     "text": [
      "{'color': 'green', 'points': 5}\n"
     ]
    }
   ],
   "source": [
    "print(alien)"
   ]
  },
  {
   "cell_type": "code",
   "execution_count": 16,
   "id": "7f548222",
   "metadata": {},
   "outputs": [
    {
     "data": {
      "text/plain": [
       "dict"
      ]
     },
     "execution_count": 16,
     "metadata": {},
     "output_type": "execute_result"
    }
   ],
   "source": [
    "type(alien)"
   ]
  },
  {
   "cell_type": "code",
   "execution_count": 17,
   "id": "82846d37",
   "metadata": {},
   "outputs": [
    {
     "name": "stdout",
     "output_type": "stream",
     "text": [
      "green\n"
     ]
    }
   ],
   "source": [
    "print(alien['color']) #to access value from dictionary"
   ]
  },
  {
   "cell_type": "code",
   "execution_count": 18,
   "id": "b5f4cd67",
   "metadata": {},
   "outputs": [],
   "source": [
    "#Note:give the key and get the value"
   ]
  },
  {
   "cell_type": "code",
   "execution_count": 19,
   "id": "40bb47fe",
   "metadata": {},
   "outputs": [
    {
     "name": "stdout",
     "output_type": "stream",
     "text": [
      "5\n"
     ]
    }
   ],
   "source": [
    "print(alien['points'])"
   ]
  },
  {
   "cell_type": "code",
   "execution_count": 20,
   "id": "84170f44",
   "metadata": {},
   "outputs": [],
   "source": [
    "#can we get the key by giving the value...>"
   ]
  },
  {
   "cell_type": "code",
   "execution_count": 21,
   "id": "4eed04a3",
   "metadata": {},
   "outputs": [
    {
     "ename": "KeyError",
     "evalue": "'green'",
     "output_type": "error",
     "traceback": [
      "\u001b[0;31m---------------------------------------------------------------------------\u001b[0m",
      "\u001b[0;31mKeyError\u001b[0m                                  Traceback (most recent call last)",
      "\u001b[0;32m<ipython-input-21-7aa8df162af6>\u001b[0m in \u001b[0;36m<module>\u001b[0;34m\u001b[0m\n\u001b[0;32m----> 1\u001b[0;31m \u001b[0mprint\u001b[0m\u001b[0;34m(\u001b[0m\u001b[0malien\u001b[0m\u001b[0;34m[\u001b[0m\u001b[0;34m'green'\u001b[0m\u001b[0;34m]\u001b[0m\u001b[0;34m)\u001b[0m\u001b[0;34m\u001b[0m\u001b[0;34m\u001b[0m\u001b[0m\n\u001b[0m",
      "\u001b[0;31mKeyError\u001b[0m: 'green'"
     ]
    }
   ],
   "source": [
    "print(alien['green'])"
   ]
  },
  {
   "cell_type": "code",
   "execution_count": null,
   "id": "d618ade5",
   "metadata": {},
   "outputs": [],
   "source": []
  }
 ],
 "metadata": {
  "kernelspec": {
   "display_name": "Python 3",
   "language": "python",
   "name": "python3"
  },
  "language_info": {
   "codemirror_mode": {
    "name": "ipython",
    "version": 3
   },
   "file_extension": ".py",
   "mimetype": "text/x-python",
   "name": "python",
   "nbconvert_exporter": "python",
   "pygments_lexer": "ipython3",
   "version": "3.6.13"
  }
 },
 "nbformat": 4,
 "nbformat_minor": 5
}
